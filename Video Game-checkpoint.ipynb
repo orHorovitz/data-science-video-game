{
 "cells": [
  {
   "cell_type": "code",
   "execution_count": 1,
   "metadata": {
    "id": "Xaki6LFU5W63"
   },
   "outputs": [],
   "source": [
    "import re\n",
    "import csv\n",
    "import random\n",
    "import requests\n",
    "import datetime\n",
    "from bs4 import BeautifulSoup\n",
    "\n",
    "import pandas as pd\n",
    "import matplotlib.pyplot as plt\n",
    "from sklearn.ensemble import RandomForestRegressor\n",
    "from sklearn.linear_model import LinearRegression\n",
    "\n",
    "import warnings\n",
    "warnings.filterwarnings('ignore')"
   ]
  },
  {
   "cell_type": "markdown",
   "metadata": {
    "id": "DA25DbgchgNy"
   },
   "source": [
    "# Crawling data using BeautifulSoup package"
   ]
  },
  {
   "cell_type": "code",
   "execution_count": 2,
   "metadata": {
    "id": "bzGGsPL37a6T"
   },
   "outputs": [],
   "source": [
    "session = requests.Session()\n",
    "header = {'user-agent': 'Mozilla/5.0 (Windows NT 10.0; Win64; x64) AppleWebKit/537.36 (KHTML, like Gecko) Chrome/108.0.0.0 Safari/537.36'}"
   ]
  },
  {
   "cell_type": "code",
   "execution_count": 3,
   "metadata": {
    "id": "FYwBCY3BJQm_"
   },
   "outputs": [],
   "source": [
    "def get_proxies():\n",
    "    url = 'https://free-proxy-list.net/'\n",
    "    r = requests.get(url)\n",
    "    while not r.status_code == 200:\n",
    "        r = requests.get(url)\n",
    "    soup = BeautifulSoup(r.text, 'html.parser')\n",
    "    trs = soup.find('table', class_ = 'table table-striped table-bordered').find('tbody').find_all('tr')\n",
    "    proxy = []\n",
    "    for tr in trs:\n",
    "        tds = tr.find_all('td')\n",
    "        if tds[6].text == 'no':\n",
    "            proxy.append('http://'+tds[0].text + ':' + tds[1].text)\n",
    "    return proxy"
   ]
  },
  {
   "cell_type": "code",
   "execution_count": 4,
   "metadata": {
    "id": "9vVq1ZOhJZpY"
   },
   "outputs": [],
   "source": [
    "def read_url(url, proxy):    \n",
    "    id = random.randint(0, 50)\n",
    "    session.proxies = {'http': proxy[id]}\n",
    "    r = session.get(url, headers = header)\n",
    "    soup = BeautifulSoup(r.text, 'html.parser')\n",
    "    return soup"
   ]
  },
  {
   "cell_type": "code",
   "execution_count": 5,
   "metadata": {
    "id": "MS7k-N7oDLPy"
   },
   "outputs": [],
   "source": [
    "def month_converter(month):\n",
    "    months = ['Jan', 'Feb', 'Mar', 'Apr', 'May', 'Jun', 'Jul', 'Aug', 'Sep', 'Oct', 'Nov', 'Dec']\n",
    "    return months.index(month) + 1"
   ]
  },
  {
   "cell_type": "code",
   "execution_count": null,
   "metadata": {
    "id": "PVxGnavR-Td3"
   },
   "outputs": [],
   "source": [
    "with open('data.csv', \"w\", newline='') as fp:\n",
    "    wr = csv.writer(fp, dialect='excel')\n",
    "    wr.writerow(['Number', 'Platform', 'Date', 'Passed Day', 'Meta Score', 'User Score'])\n",
    "\n",
    "    for n in range(200):\n",
    "      url = 'https://www.metacritic.com/browse/games/score/metascore/all/all/filtered?page={}'.format(n)\n",
    "      if n%20 == 0:\n",
    "        proxy = get_proxies()\n",
    "      soup = read_url(url, proxy)\n",
    "      r = requests.get(url, headers=header)\n",
    "      while not r.status_code == 200:\n",
    "          r = requests.get(url, headers=header)\n",
    "      soup = BeautifulSoup(r.text, 'html.parser')\n",
    "\n",
    "      records = soup.find_all('td', class_ = 'clamp-summary-wrap')\n",
    "      for record in records:\n",
    "        number = int(re.findall(r'\\d+', record.find('span', class_='title numbered').text)[0])\n",
    "        details_soup = record.find('div', class_='clamp-details').find_all('span')\n",
    "        platform = details_soup[1].text.strip()\n",
    "\n",
    "        rec_date = details_soup[2].text.strip().replace(',', '').split(' ')\n",
    "        year = int(rec_date[2])\n",
    "        month = month_converter(rec_date[0][:3])\n",
    "        day = int(rec_date[1])\n",
    "        rec_date = datetime.date(year, month, day)\n",
    "\n",
    "        delta = datetime.date.today() - rec_date\n",
    "        pass_days = delta.days\n",
    "\n",
    "        meta_score_classes = ['metascore_w large game positive', \n",
    "                              'metascore_w large game mixed', \n",
    "                              'metascore_w large game negative']\n",
    "        for meta_score_class in meta_score_classes:\n",
    "          try:\n",
    "            meta_score = float(record.find('div', class_=meta_score_class).text.strip())\n",
    "            break\n",
    "          except:\n",
    "            pass\n",
    "\n",
    "        user_score_classes = ['metascore_w user large game positive', \n",
    "                              'metascore_w user large game mixed', \n",
    "                              'metascore_w user large game negative']\n",
    "        for user_score_class in user_score_classes:\n",
    "          try:\n",
    "            user_score = float(record.find('div', class_=user_score_class).text.strip())\n",
    "            break\n",
    "          except:\n",
    "            pass\n",
    "\n",
    "        wr.writerow([number, platform, rec_date, pass_days, meta_score, user_score])"
   ]
  },
  {
   "cell_type": "markdown",
   "metadata": {
    "id": "fWmXe6M4R8_a"
   },
   "source": [
    "# Pre - processing"
   ]
  },
  {
   "cell_type": "markdown",
   "metadata": {
    "id": "0ZiS8pVKSQz4"
   },
   "source": [
    "*Remove rows with missing values*"
   ]
  },
  {
   "cell_type": "code",
   "execution_count": null,
   "metadata": {
    "colab": {
     "base_uri": "https://localhost:8080/",
     "height": 206
    },
    "id": "8gg-HdWjR4LB",
    "outputId": "2144052f-09ac-4d2f-9a40-93791a9b3876"
   },
   "outputs": [],
   "source": [
    "df = pd.read_csv('data.csv')\n",
    "df = df[df != '']\n",
    "df = df.dropna()\n",
    "df = df.reset_index(drop = True)\n",
    "df.head(10)\n",
    "df.head()"
   ]
  },
  {
   "cell_type": "markdown",
   "metadata": {
    "id": "Nvpf-46MSdtR"
   },
   "source": [
    "*remove column 'Number'*"
   ]
  },
  {
   "cell_type": "code",
   "execution_count": null,
   "metadata": {
    "colab": {
     "base_uri": "https://localhost:8080/",
     "height": 206
    },
    "id": "gmMhvuHvSYJ0",
    "outputId": "405adf51-fc4d-405f-f0c2-f013d3742073"
   },
   "outputs": [],
   "source": [
    "df.drop(['Number'], axis=1, inplace = True)\n",
    "df.head()"
   ]
  },
  {
   "cell_type": "markdown",
   "metadata": {
    "id": "7lOgf1YPUXG3"
   },
   "source": [
    "# EDA"
   ]
  },
  {
   "cell_type": "code",
   "execution_count": null,
   "metadata": {
    "id": "R1Wy8NMpUOOF"
   },
   "outputs": [],
   "source": [
    "df['Year'] = pd.DatetimeIndex(df['Date']).year"
   ]
  },
  {
   "cell_type": "markdown",
   "metadata": {
    "id": "lqmLVWRAUd0A"
   },
   "source": [
    "*Number of years and platforms*"
   ]
  },
  {
   "cell_type": "code",
   "execution_count": null,
   "metadata": {
    "colab": {
     "base_uri": "https://localhost:8080/"
    },
    "id": "VE8V9FdGUdRd",
    "outputId": "b3e408c8-7828-4ba6-b81a-2346acb3b630"
   },
   "outputs": [],
   "source": [
    "print('Number of Years:', len(df['Year'].unique()))\n",
    "print('Number of Platforms:', len(df['Platform'].unique()))"
   ]
  },
  {
   "cell_type": "markdown",
   "metadata": {
    "id": "fPZQljFFUouN"
   },
   "source": [
    "*Statistical Features*"
   ]
  },
  {
   "cell_type": "code",
   "execution_count": null,
   "metadata": {
    "colab": {
     "base_uri": "https://localhost:8080/",
     "height": 300
    },
    "id": "usHYkZQhUoMP",
    "outputId": "5fe80acc-30cb-4036-87a2-81fe031fb1ac"
   },
   "outputs": [],
   "source": [
    "df.describe()"
   ]
  },
  {
   "cell_type": "markdown",
   "metadata": {
    "id": "Dh4yNPfkVBus"
   },
   "source": [
    "## Top Average Meta Scores by Year"
   ]
  },
  {
   "cell_type": "code",
   "execution_count": null,
   "metadata": {
    "colab": {
     "base_uri": "https://localhost:8080/",
     "height": 366
    },
    "id": "rS86h52VUwl1",
    "outputId": "478b24dc-ac3d-4890-b87b-5504c0f4778c"
   },
   "outputs": [],
   "source": [
    "dfx_year = df.groupby('Year').mean()\n",
    "df10 = dfx_year.nlargest(10, 'Meta Score')\n",
    "df10[['Meta Score']].groupby(['Year']).mean().plot.bar(figsize=(10, 5))"
   ]
  },
  {
   "cell_type": "markdown",
   "metadata": {
    "id": "YuKiZpw4VdJs"
   },
   "source": [
    "## Top Average User Scores by Year"
   ]
  },
  {
   "cell_type": "code",
   "execution_count": null,
   "metadata": {
    "colab": {
     "base_uri": "https://localhost:8080/",
     "height": 366
    },
    "id": "QXCYbByVVjN3",
    "outputId": "22665021-4c99-4b76-aa90-c2d0c978ea77"
   },
   "outputs": [],
   "source": [
    "df10 = dfx_year.nlargest(10, 'User Score')\n",
    "df10[['User Score']].groupby(['Year']).mean().plot.bar(figsize=(10, 5))"
   ]
  },
  {
   "cell_type": "markdown",
   "metadata": {
    "id": "87E2M9fCWd6S"
   },
   "source": [
    "## Scatter plot between average meta score and user score by the year"
   ]
  },
  {
   "cell_type": "code",
   "execution_count": null,
   "metadata": {
    "colab": {
     "base_uri": "https://localhost:8080/",
     "height": 296
    },
    "id": "9j0BOCivWDzV",
    "outputId": "cf21f1c8-8df9-4349-ada8-9c90ddf297bb"
   },
   "outputs": [],
   "source": [
    "dfx_year.plot.scatter(x='Meta Score', y='User Score', c='DarkBlue')"
   ]
  },
  {
   "cell_type": "markdown",
   "metadata": {
    "id": "r8HVEPEDWslR"
   },
   "source": [
    "## Top Average Meta Scores by Platform"
   ]
  },
  {
   "cell_type": "code",
   "execution_count": null,
   "metadata": {
    "colab": {
     "base_uri": "https://localhost:8080/",
     "height": 409
    },
    "id": "MZxbz9qqWsN8",
    "outputId": "d0c98cf3-fa0c-45d2-a8a4-15dec9062565"
   },
   "outputs": [],
   "source": [
    "dfx_platform = df.groupby('Platform').mean()\n",
    "df10 = dfx_platform.nlargest(10, 'Meta Score')\n",
    "df10[['Meta Score']].groupby(['Platform']).mean().plot.bar(figsize=(10, 5))"
   ]
  },
  {
   "cell_type": "markdown",
   "metadata": {
    "id": "kdkjgF6JW-55"
   },
   "source": [
    "## Top Average User Scores by Platform"
   ]
  },
  {
   "cell_type": "code",
   "execution_count": null,
   "metadata": {
    "colab": {
     "base_uri": "https://localhost:8080/",
     "height": 438
    },
    "id": "zAoyTFwqXAc9",
    "outputId": "3749a446-5880-457c-f56f-89f8eb706efe"
   },
   "outputs": [],
   "source": [
    "df10 = dfx_platform.nlargest(10, 'User Score')\n",
    "df10[['User Score']].groupby(['Platform']).mean().plot.bar(figsize=(10, 5))"
   ]
  },
  {
   "cell_type": "markdown",
   "metadata": {
    "id": "6V7qNTL3XXV6"
   },
   "source": [
    "## Scatter plot between average meta score and user score by the platform"
   ]
  },
  {
   "cell_type": "code",
   "execution_count": null,
   "metadata": {
    "colab": {
     "base_uri": "https://localhost:8080/",
     "height": 296
    },
    "id": "YaB_wlHaXZUR",
    "outputId": "312e20c5-7c15-463c-d02f-db9dcafd78f0"
   },
   "outputs": [],
   "source": [
    "dfx_platform.plot.scatter(x='Meta Score', y='User Score', c='DarkBlue')"
   ]
  },
  {
   "cell_type": "markdown",
   "metadata": {
    "id": "1G_Tiv0BatoO"
   },
   "source": [
    "*Remove string columns*"
   ]
  },
  {
   "cell_type": "code",
   "execution_count": null,
   "metadata": {
    "colab": {
     "base_uri": "https://localhost:8080/",
     "height": 206
    },
    "id": "tOsO76qzat_1",
    "outputId": "1f9987ff-9697-4d3b-f15b-bcf015c68e90"
   },
   "outputs": [],
   "source": [
    "df_numerical = df.drop(['Platform', 'Date'], axis = 1)\n",
    "df_numerical = df_numerical[['Passed Day', 'Year', 'Meta Score', 'User Score']]\n",
    "df_numerical.head()"
   ]
  },
  {
   "cell_type": "markdown",
   "metadata": {
    "id": "NgInDo4VaZQ-"
   },
   "source": [
    "# Regression Models\n",
    "## Correlation Analysis"
   ]
  },
  {
   "cell_type": "code",
   "execution_count": null,
   "metadata": {
    "colab": {
     "base_uri": "https://localhost:8080/",
     "height": 210
    },
    "id": "ZtIbN49vaerm",
    "outputId": "e93b1c0d-831d-47e2-e266-88d07a5095b6"
   },
   "outputs": [],
   "source": [
    "corr = df_numerical.corr()\n",
    "corr.style.background_gradient(cmap='coolwarm').set_precision(2)"
   ]
  },
  {
   "cell_type": "code",
   "execution_count": null,
   "metadata": {
    "colab": {
     "base_uri": "https://localhost:8080/"
    },
    "id": "3x6vg0aabqHa",
    "outputId": "1aae90a7-a314-48dd-b5e2-f3f6f4fffa06"
   },
   "outputs": [],
   "source": [
    "X = df_numerical[['Passed Day', 'Year', 'Meta Score']]\n",
    "y = df_numerical['User Score']\n",
    "\n",
    "# Train Regression models\n",
    "RF = RandomForestRegressor()\n",
    "LR = LinearRegression()\n",
    "RF.fit(X, y)\n",
    "LR.fit(X, y)"
   ]
  },
  {
   "cell_type": "code",
   "execution_count": null,
   "metadata": {
    "id": "ZWsU3QVlb-wd"
   },
   "outputs": [],
   "source": [
    "# Predict gross using trained regression models\n",
    "RF_pred = RF.predict(X)\n",
    "LR_pred = LR.predict(X)"
   ]
  },
  {
   "cell_type": "code",
   "execution_count": null,
   "metadata": {
    "colab": {
     "base_uri": "https://localhost:8080/",
     "height": 550
    },
    "id": "5mFngH7FcClK",
    "outputId": "92489a46-fea9-4ad8-b955-111dbd551c58"
   },
   "outputs": [],
   "source": [
    "fig, axs = plt.subplots(1,2,figsize=(16,9))\n",
    "\n",
    "axs[0].plot(RF_pred, \"b^\", label=\"RandomForestRegressor\")\n",
    "axs[0].tick_params(axis=\"x\", which=\"both\", bottom=False, top=False, labelbottom=False)\n",
    "axs[0].set_ylabel(\"predicted\")\n",
    "axs[0].set_xlabel(\"training samples\")\n",
    "axs[0].legend(loc=\"best\")\n",
    "axs[0].set_title(\"Regressor predictions and their average\")\n",
    "\n",
    "axs[1].plot(LR_pred, \"ys\", label=\"LinearRegression\")\n",
    "axs[1].tick_params(axis=\"x\", which=\"both\", bottom=False, top=False, labelbottom=False)\n",
    "axs[1].set_ylabel(\"predicted\")\n",
    "axs[1].set_xlabel(\"training samples\")\n",
    "axs[1].legend(loc=\"best\")\n",
    "axs[1].set_title(\"Regressor predictions and their average\")\n",
    "\n",
    "plt.show()"
   ]
  },
  {
   "cell_type": "markdown",
   "metadata": {
    "id": "06fpVH6JcV0R"
   },
   "source": [
    "## Calculate RMSE values"
   ]
  },
  {
   "cell_type": "code",
   "execution_count": null,
   "metadata": {
    "colab": {
     "base_uri": "https://localhost:8080/",
     "height": 112
    },
    "id": "DwOlulJbcYfk",
    "outputId": "3947b695-5708-4e7c-dd5a-08b6596023fd"
   },
   "outputs": [],
   "source": [
    "from sklearn.metrics import mean_squared_error\n",
    "import numpy as np\n",
    "rmse = []\n",
    "pred_PTS = pd.DataFrame({'User Score': y, 'RF_User_Score':RF_pred, 'LR_User_Score': LR_pred})\n",
    "rmse.append(mean_squared_error(pred_PTS['User Score'], pred_PTS['RF_User_Score'], squared=False))\n",
    "rmse.append(mean_squared_error(pred_PTS['User Score'], pred_PTS['LR_User_Score'], squared=False))\n",
    "methods = ['RandomForestRegressor', 'LinearRegression']\n",
    "RMSE = pd.DataFrame({'Method': methods,'RMSE': rmse})\n",
    "RMSE"
   ]
  },
  {
   "cell_type": "code",
   "execution_count": null,
   "metadata": {
    "colab": {
     "base_uri": "https://localhost:8080/",
     "height": 462
    },
    "id": "3DcnGZOxct7x",
    "outputId": "a166eac1-09c3-4692-d913-5aa21fe37e80"
   },
   "outputs": [],
   "source": [
    "RMSE.plot.bar(x = 'Method', y = 'RMSE', figsize=(10, 5))"
   ]
  },
  {
   "cell_type": "markdown",
   "metadata": {
    "id": "WmnurHdicx78"
   },
   "source": [
    "*From above table and graph, we can see that Random Forest Regressor is the best. The RMSE of Random Forest Regressor is less than 1.\n",
    "Now lets predict User Score for all values.*"
   ]
  },
  {
   "cell_type": "markdown",
   "metadata": {
    "id": "CmIj96dTnxbz"
   },
   "source": [
    "# Predict the User Score using other features"
   ]
  },
  {
   "cell_type": "code",
   "execution_count": null,
   "metadata": {
    "colab": {
     "base_uri": "https://localhost:8080/",
     "height": 363
    },
    "id": "KI4BWHROnuBx",
    "outputId": "c5592529-6884-4735-8f62-46a9d5e32caa"
   },
   "outputs": [],
   "source": [
    "RF_pred = RF.predict(X)\n",
    "df_numerical['pred_User_Score'] = RF_pred\n",
    "df_numerical.head(10)"
   ]
  },
  {
   "cell_type": "code",
   "execution_count": null,
   "metadata": {},
   "outputs": [],
   "source": []
  }
 ],
 "metadata": {
  "colab": {
   "provenance": []
  },
  "kernelspec": {
   "display_name": "Python 3 (ipykernel)",
   "language": "python",
   "name": "python3"
  },
  "language_info": {
   "codemirror_mode": {
    "name": "ipython",
    "version": 3
   },
   "file_extension": ".py",
   "mimetype": "text/x-python",
   "name": "python",
   "nbconvert_exporter": "python",
   "pygments_lexer": "ipython3",
   "version": "3.9.13"
  }
 },
 "nbformat": 4,
 "nbformat_minor": 1
}
